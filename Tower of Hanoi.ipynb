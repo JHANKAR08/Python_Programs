{
 "cells": [
  {
   "cell_type": "code",
   "execution_count": 21,
   "metadata": {},
   "outputs": [
    {
     "name": "stdout",
     "output_type": "stream",
     "text": [
      "Enter the number of disk(s):-4\n",
      "Move disk 1 from rod A to rod B.\n",
      "Move disk 2 from rod A to rod C.\n",
      "Move disk 1 from rod B to rod C.\n",
      "Move disk 3 from rod A to rod B.\n",
      "Move disk 1 from rod C to rod A.\n",
      "Move disk 2 from rod C to rod B.\n",
      "Move disk 1 from rod A to rod B.\n",
      "Move disk 4 from rod A to rod C.\n",
      "Move disk 1 from rod B to rod C.\n",
      "Move disk 2 from rod B to rod A.\n",
      "Move disk 1 from rod C to rod A.\n",
      "Move disk 3 from rod B to rod C.\n",
      "Move disk 1 from rod A to rod B.\n",
      "Move disk 2 from rod A to rod C.\n",
      "Move disk 1 from rod B to rod C.\n"
     ]
    }
   ],
   "source": [
    "n=int(input(\"Enter the number of disk(s):-\"))\n",
    "# Creating a recursive function  \n",
    "def towerofhanoi(n,rod1,rod2,rod3):  \n",
    "    if(n== 1):  \n",
    "        print(\"Move disk 1 from rod {} to rod {}.\".format(rod1,rod3))  \n",
    "        return  \n",
    "    # function call itself  \n",
    "    towerofhanoi(n-1,rod1,rod3,rod2)  \n",
    "    print('Move disk {} from rod {} to rod {}.'.format(n,rod1,rod3))  \n",
    "    towerofhanoi(n-1,rod2,rod1,rod3) \n",
    "\n",
    "# Calling the function    \n",
    "towerofhanoi(n,'A','B','C')"
   ]
  },
  {
   "cell_type": "markdown",
   "metadata": {},
   "source": [
    "### Procedural Diagram of Tower of Hanoi For 4 disk:-\n",
    "<img src=\"https://i.ibb.co/wLCxSM1/Tower-of-hanoi.png\" alt=\"Tower-of-hanoi\" border=\"0\"></a>"
   ]
  }
 ],
 "metadata": {
  "kernelspec": {
   "display_name": "Python 3",
   "language": "python",
   "name": "python3"
  },
  "language_info": {
   "codemirror_mode": {
    "name": "ipython",
    "version": 3
   },
   "file_extension": ".py",
   "mimetype": "text/x-python",
   "name": "python",
   "nbconvert_exporter": "python",
   "pygments_lexer": "ipython3",
   "version": "3.8.5"
  }
 },
 "nbformat": 4,
 "nbformat_minor": 4
}
